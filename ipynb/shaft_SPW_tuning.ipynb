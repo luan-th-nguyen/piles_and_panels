{
 "cells": [
  {
   "cell_type": "code",
   "execution_count": 1,
   "source": [
    "%%capture\r\n",
    "# import by running get_equivalent_plate_thickness_SPW.ipynb, suppressing output\r\n",
    "import os\r\n",
    "cwd = os.getcwd()\r\n",
    "%run shaft_SPW.ipynb"
   ],
   "outputs": [],
   "metadata": {}
  },
  {
   "cell_type": "markdown",
   "source": [
    "## Tuning"
   ],
   "metadata": {}
  },
  {
   "cell_type": "code",
   "execution_count": 2,
   "source": [
    "from __future__ import print_function\r\n",
    "from ipywidgets import interact, interactive, fixed, interact_manual\r\n",
    "import ipywidgets as widgets\r\n",
    "\r\n",
    "@interact(ri=6.0/2, D=[0.6, 0.75, 0.88, 1.0, 1.2, 1.5], L=51.3, n_pieces=46, v=0.5)\r\n",
    "def calculate_secant_pile_shaft(ri, D, L, n_pieces, v):\r\n",
    "    a, t_top, d_top, x, t_eff, d_eff = get_parameters_secant_piles(ri, n_pieces, D, L, v)\r\n",
    "\r\n",
    "    %matplotlib inline\r\n",
    "    plot_shaft(ri, n_pieces, D, x)\r\n",
    "\r\n",
    "    %matplotlib inline\r\n",
    "    plot_shaft_3d(ri, n_pieces, D, L, x)"
   ],
   "outputs": [
    {
     "output_type": "display_data",
     "data": {
      "text/plain": [
       "interactive(children=(FloatSlider(value=3.0, description='ri', max=9.0, min=-3.0), Dropdown(description='D', o…"
      ],
      "application/vnd.jupyter.widget-view+json": {
       "version_major": 2,
       "version_minor": 0,
       "model_id": "3524a1b35bb74412b7ecfa06912ee576"
      }
     },
     "metadata": {}
    }
   ],
   "metadata": {}
  },
  {
   "cell_type": "code",
   "execution_count": null,
   "source": [],
   "outputs": [],
   "metadata": {}
  }
 ],
 "metadata": {
  "kernelspec": {
   "name": "python3",
   "display_name": "Python 3.7.10 64-bit ('py37': conda)"
  },
  "language_info": {
   "codemirror_mode": {
    "name": "ipython",
    "version": 3
   },
   "file_extension": ".py",
   "mimetype": "text/x-python",
   "name": "python",
   "nbconvert_exporter": "python",
   "pygments_lexer": "ipython3",
   "version": "3.7.10"
  },
  "interpreter": {
   "hash": "9979ec7437d00b7526d327018fd9bc1ebe2c7a092f32f2383231c59a830b7c0b"
  }
 },
 "nbformat": 4,
 "nbformat_minor": 5
}